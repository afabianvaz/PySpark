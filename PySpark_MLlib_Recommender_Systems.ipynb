{
  "nbformat": 4,
  "nbformat_minor": 0,
  "metadata": {
    "colab": {
      "name": "Spark MLlib_Recommender Systems.ipynb",
      "provenance": []
    },
    "kernelspec": {
      "name": "python3",
      "display_name": "Python 3"
    }
  },
  "cells": [
    {
      "cell_type": "markdown",
      "metadata": {
        "id": "pLFJAaorxgc7"
      },
      "source": [
        "The two most common types of recommender systems are Content-Based and Collaborative Filtering (CF).\n",
        "\n",
        "Collaborative filtering produces recommendations based on the knowledge of users’ attitude to items, that is it uses the \"wisdom of the crowd\" to recommend items.\n",
        "\n",
        "Content-based recommender systems focus on the attributes of the items and give you recommendations based on the similarity between them.\n",
        "\n",
        "In general, Collaborative filtering (CF) is more commonly used than content-based systems because it usually gives better results and is relatively easy to understand (from an overall implementation perspective).\n",
        "\n",
        "The algorithm has the ability to do feature learning on its own, which means that it can start to learn for itself what features to use.\n",
        "\n",
        "These techniques aim to fill in the missing entries of a user-item association matrix. \n",
        "\n",
        "spark.ml currently supports model-based collaborative filtering, in which users and products are described by a small set of latent factors that can be used to predict missing entries.\n",
        "\n",
        "spark.ml uses the alternating least squares (ALS) algorithm to learn these latent factors.\n",
        "\n",
        "Your data needs to be in a specific format to work with Spark’s ALS Recommendation Algorithm!\n",
        "\n",
        "ALS is basically a Matrix Factorization approach to implement a recommendation algorithm you decompose your large user/item matrix into lower dimensional user factors and item factors.\n",
        "\n",
        "To fully understand this model need to have a strong background in Linear Algebra \n",
        "\n",
        "Check out the various resource links for more detail on ALS and how it works.\n",
        "\n",
        "The intuitive understanding of a recommender system is the following:\n",
        "Imagine we have 3 customers: 1,2,3.\n",
        "We also have some movies: A,B,C\n",
        "Customers 1 and 2 really enjoy movies A and B and rate them five out of five stars! \n",
        "\n",
        "1 and 2 dislike movie C, and give it a one star rating.\n",
        "\n",
        "\n"
      ]
    },
    {
      "cell_type": "code",
      "metadata": {
        "colab": {
          "base_uri": "https://localhost:8080/"
        },
        "id": "7EzTmepCxARn",
        "outputId": "7e416bd7-4845-401b-c7c4-0aa60229dbb3"
      },
      "source": [
        "!pip install pyspark"
      ],
      "execution_count": null,
      "outputs": [
        {
          "output_type": "stream",
          "text": [
            "Collecting pyspark\n",
            "\u001b[?25l  Downloading https://files.pythonhosted.org/packages/f0/26/198fc8c0b98580f617cb03cb298c6056587b8f0447e20fa40c5b634ced77/pyspark-3.0.1.tar.gz (204.2MB)\n",
            "\u001b[K     |████████████████████████████████| 204.2MB 67kB/s \n",
            "\u001b[?25hCollecting py4j==0.10.9\n",
            "\u001b[?25l  Downloading https://files.pythonhosted.org/packages/9e/b6/6a4fb90cd235dc8e265a6a2067f2a2c99f0d91787f06aca4bcf7c23f3f80/py4j-0.10.9-py2.py3-none-any.whl (198kB)\n",
            "\u001b[K     |████████████████████████████████| 204kB 41.9MB/s \n",
            "\u001b[?25hBuilding wheels for collected packages: pyspark\n",
            "  Building wheel for pyspark (setup.py) ... \u001b[?25l\u001b[?25hdone\n",
            "  Created wheel for pyspark: filename=pyspark-3.0.1-py2.py3-none-any.whl size=204612242 sha256=2044a62c39d08fd8887420d7c07070ea071d7e883a3b741e2c0c3484117391f2\n",
            "  Stored in directory: /root/.cache/pip/wheels/5e/bd/07/031766ca628adec8435bb40f0bd83bb676ce65ff4007f8e73f\n",
            "Successfully built pyspark\n",
            "Installing collected packages: py4j, pyspark\n",
            "Successfully installed py4j-0.10.9 pyspark-3.0.1\n"
          ],
          "name": "stdout"
        }
      ]
    },
    {
      "cell_type": "code",
      "metadata": {
        "id": "wF7zCpJ01JLW"
      },
      "source": [
        "from pyspark.sql import SparkSession\n",
        "\n",
        "spark = SparkSession.builder.appName('rec').getOrCreate()\n",
        "\n",
        "from pyspark.ml.recommendation import ALS\n",
        "\n",
        "from pyspark.ml.evaluation import RegressionEvaluator\n",
        "\n",
        "data = spark.read.csv('movielens_ratings.csv', inferSchema = True, header = True)"
      ],
      "execution_count": null,
      "outputs": []
    },
    {
      "cell_type": "code",
      "metadata": {
        "colab": {
          "base_uri": "https://localhost:8080/"
        },
        "id": "6T82ngvR1tF4",
        "outputId": "fa64169e-b54a-4de2-b637-d2ba8af511b9"
      },
      "source": [
        "data.show()"
      ],
      "execution_count": null,
      "outputs": [
        {
          "output_type": "stream",
          "text": [
            "+-------+------+------+\n",
            "|movieId|rating|userId|\n",
            "+-------+------+------+\n",
            "|      2|   3.0|     0|\n",
            "|      3|   1.0|     0|\n",
            "|      5|   2.0|     0|\n",
            "|      9|   4.0|     0|\n",
            "|     11|   1.0|     0|\n",
            "|     12|   2.0|     0|\n",
            "|     15|   1.0|     0|\n",
            "|     17|   1.0|     0|\n",
            "|     19|   1.0|     0|\n",
            "|     21|   1.0|     0|\n",
            "|     23|   1.0|     0|\n",
            "|     26|   3.0|     0|\n",
            "|     27|   1.0|     0|\n",
            "|     28|   1.0|     0|\n",
            "|     29|   1.0|     0|\n",
            "|     30|   1.0|     0|\n",
            "|     31|   1.0|     0|\n",
            "|     34|   1.0|     0|\n",
            "|     37|   1.0|     0|\n",
            "|     41|   2.0|     0|\n",
            "+-------+------+------+\n",
            "only showing top 20 rows\n",
            "\n"
          ],
          "name": "stdout"
        }
      ]
    },
    {
      "cell_type": "code",
      "metadata": {
        "colab": {
          "base_uri": "https://localhost:8080/"
        },
        "id": "IkPg1-GX1xXY",
        "outputId": "4deb4157-abf5-4dcd-8222-d56ef298aae4"
      },
      "source": [
        "data.describe().show()"
      ],
      "execution_count": null,
      "outputs": [
        {
          "output_type": "stream",
          "text": [
            "+-------+------------------+------------------+------------------+\n",
            "|summary|           movieId|            rating|            userId|\n",
            "+-------+------------------+------------------+------------------+\n",
            "|  count|              1501|              1501|              1501|\n",
            "|   mean| 49.40572951365756|1.7741505662891406|14.383744170552964|\n",
            "| stddev|28.937034065088994| 1.187276166124803| 8.591040424293272|\n",
            "|    min|                 0|               1.0|                 0|\n",
            "|    max|                99|               5.0|                29|\n",
            "+-------+------------------+------------------+------------------+\n",
            "\n"
          ],
          "name": "stdout"
        }
      ]
    },
    {
      "cell_type": "code",
      "metadata": {
        "id": "ubQEv2U-2DpX"
      },
      "source": [
        "training, test = data.randomSplit([0.8, 0.3])"
      ],
      "execution_count": null,
      "outputs": []
    },
    {
      "cell_type": "code",
      "metadata": {
        "id": "OFTmacYd2VXt"
      },
      "source": [
        "als= ALS(maxIter =5, regParam = 0.01, userCol = 'userId', itemCol = 'movieId', ratingCol='rating') #Alternating Least Squares (ALS) matrix factorization"
      ],
      "execution_count": null,
      "outputs": []
    },
    {
      "cell_type": "code",
      "metadata": {
        "id": "TknrRFHr2295"
      },
      "source": [
        "model = als.fit(training)"
      ],
      "execution_count": null,
      "outputs": []
    },
    {
      "cell_type": "code",
      "metadata": {
        "id": "uq1vemJn2-2Q"
      },
      "source": [
        "predictions = model.transform(test)"
      ],
      "execution_count": null,
      "outputs": []
    },
    {
      "cell_type": "code",
      "metadata": {
        "colab": {
          "base_uri": "https://localhost:8080/"
        },
        "id": "LP_2c92F3CxO",
        "outputId": "e4a01ae0-69f5-4e36-949d-a41e404a594d"
      },
      "source": [
        "predictions.show()"
      ],
      "execution_count": null,
      "outputs": [
        {
          "output_type": "stream",
          "text": [
            "+-------+------+------+-----------+\n",
            "|movieId|rating|userId| prediction|\n",
            "+-------+------+------+-----------+\n",
            "|     31|   3.0|     8| -1.2003973|\n",
            "|     31|   2.0|    25|  2.8985767|\n",
            "|     31|   1.0|    18|  0.2463209|\n",
            "|     85|   1.0|    26|  3.1671884|\n",
            "|     85|   1.0|    12| -1.2873697|\n",
            "|     85|   3.0|     1|  3.6274376|\n",
            "|     85|   1.0|    13| 0.52892125|\n",
            "|     85|   3.0|     6| -4.1948276|\n",
            "|     85|   5.0|    16|-0.16278215|\n",
            "|     85|   1.0|    23|  -0.806761|\n",
            "|     85|   1.0|    25|-0.60658103|\n",
            "|     85|   3.0|    21|  0.0882335|\n",
            "|     65|   2.0|     5| 0.64910364|\n",
            "|     65|   1.0|    19|  2.8407307|\n",
            "|     65|   2.0|    15|  3.3676324|\n",
            "|     65|   1.0|     4| 0.65699005|\n",
            "|     65|   1.0|    24|  1.9148284|\n",
            "|     65|   1.0|     2|-0.71101534|\n",
            "|     53|   3.0|    20|  2.5694869|\n",
            "|     53|   2.0|    19|  2.7433527|\n",
            "+-------+------+------+-----------+\n",
            "only showing top 20 rows\n",
            "\n"
          ],
          "name": "stdout"
        }
      ]
    },
    {
      "cell_type": "code",
      "metadata": {
        "id": "h0_kju6j3Evu"
      },
      "source": [
        "evaluator = RegressionEvaluator(metricName='rmse', labelCol='rating', predictionCol='prediction')"
      ],
      "execution_count": null,
      "outputs": []
    },
    {
      "cell_type": "code",
      "metadata": {
        "id": "zUQ_THiV3i2-"
      },
      "source": [
        "rmse = evaluator.evaluate(predictions)"
      ],
      "execution_count": null,
      "outputs": []
    },
    {
      "cell_type": "code",
      "metadata": {
        "colab": {
          "base_uri": "https://localhost:8080/"
        },
        "id": "IIVRHjqM3n6D",
        "outputId": "17c36f2d-0c69-4a21-d86d-43abc48c636c"
      },
      "source": [
        "print('RMSE')\n",
        "print(rmse)"
      ],
      "execution_count": null,
      "outputs": [
        {
          "output_type": "stream",
          "text": [
            "RMSE\n",
            "2.104467630624879\n"
          ],
          "name": "stdout"
        }
      ]
    },
    {
      "cell_type": "code",
      "metadata": {
        "id": "BhECEhWi3sVI"
      },
      "source": [
        "single_user = test.filter(test['userId']==11).select(['movieId', 'userId'])"
      ],
      "execution_count": null,
      "outputs": []
    },
    {
      "cell_type": "code",
      "metadata": {
        "colab": {
          "base_uri": "https://localhost:8080/"
        },
        "id": "3kkJKC46375X",
        "outputId": "a71bec31-74f4-4de0-a962-c2df95164d11"
      },
      "source": [
        "single_user.show()"
      ],
      "execution_count": null,
      "outputs": [
        {
          "output_type": "stream",
          "text": [
            "+-------+------+\n",
            "|movieId|userId|\n",
            "+-------+------+\n",
            "|      0|    11|\n",
            "|     10|    11|\n",
            "|     16|    11|\n",
            "|     23|    11|\n",
            "|     32|    11|\n",
            "|     38|    11|\n",
            "|     61|    11|\n",
            "|     62|    11|\n",
            "|     72|    11|\n",
            "|     76|    11|\n",
            "|     77|    11|\n",
            "|     78|    11|\n",
            "|     82|    11|\n",
            "|     97|    11|\n",
            "|     99|    11|\n",
            "+-------+------+\n",
            "\n"
          ],
          "name": "stdout"
        }
      ]
    },
    {
      "cell_type": "code",
      "metadata": {
        "id": "YmlsUenp3_Fz"
      },
      "source": [
        "recommendations = model.transform(single_user)"
      ],
      "execution_count": null,
      "outputs": []
    },
    {
      "cell_type": "code",
      "metadata": {
        "colab": {
          "base_uri": "https://localhost:8080/"
        },
        "id": "aGRIEevs4HgM",
        "outputId": "b064b0ea-0536-40c1-d7eb-f40db7705ce3"
      },
      "source": [
        "recommendations.orderBy('prediction', ascending=False).show()"
      ],
      "execution_count": null,
      "outputs": [
        {
          "output_type": "stream",
          "text": [
            "+-------+------+-----------+\n",
            "|movieId|userId| prediction|\n",
            "+-------+------+-----------+\n",
            "|     32|    11|   2.487289|\n",
            "|     61|    11|  1.7235298|\n",
            "|     23|    11|  1.6220003|\n",
            "|     10|    11|  1.4214804|\n",
            "|     38|    11|  1.1953259|\n",
            "|     99|    11|  1.1833932|\n",
            "|     97|    11|    1.02893|\n",
            "|      0|    11|  0.9721139|\n",
            "|     77|    11|  0.6490396|\n",
            "|     72|    11| 0.34924883|\n",
            "|     16|    11|   0.325314|\n",
            "|     78|    11| 0.30926734|\n",
            "|     82|    11|-0.20031986|\n",
            "|     62|    11| -1.8682793|\n",
            "|     76|    11|  -2.234673|\n",
            "+-------+------+-----------+\n",
            "\n"
          ],
          "name": "stdout"
        }
      ]
    },
    {
      "cell_type": "code",
      "metadata": {
        "id": "wEcr6Xik4RSG"
      },
      "source": [
        ""
      ],
      "execution_count": null,
      "outputs": []
    }
  ]
}